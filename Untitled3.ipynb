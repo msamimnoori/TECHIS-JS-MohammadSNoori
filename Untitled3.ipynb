{
  "nbformat": 4,
  "nbformat_minor": 0,
  "metadata": {
    "colab": {
      "name": "Untitled3.ipynb",
      "provenance": [],
      "authorship_tag": "ABX9TyNbIK7/WSEsmvQDWee7oJEM",
      "include_colab_link": true
    },
    "kernelspec": {
      "name": "python3",
      "display_name": "Python 3"
    },
    "language_info": {
      "name": "python"
    }
  },
  "cells": [
    {
      "cell_type": "markdown",
      "metadata": {
        "id": "view-in-github",
        "colab_type": "text"
      },
      "source": [
        "<a href=\"https://colab.research.google.com/github/msamimnoori/TECHIS-JS-MohammadSNoori/blob/main/Untitled3.ipynb\" target=\"_parent\"><img src=\"https://colab.research.google.com/assets/colab-badge.svg\" alt=\"Open In Colab\"/></a>"
      ]
    },
    {
      "cell_type": "code",
      "execution_count": 11,
      "metadata": {
        "colab": {
          "base_uri": "https://localhost:8080/"
        },
        "id": "65f9ZBBuRmFG",
        "outputId": "cf302589-42bb-45d1-fa48-a096e6be184e"
      },
      "outputs": [
        {
          "output_type": "stream",
          "name": "stdout",
          "text": [
            "enter the name: ASDFGHJ\n",
            "This name is already in uppercase.\n"
          ]
        }
      ],
      "source": [
        "name = input(\"enter the name: \")\n",
        "\n",
        "if name.isupper() == False:\n",
        "\tname = name.upper()\n",
        "\tprint(name)\n",
        "else:\n",
        "\tprint(\"This name is already in uppercase.\")\n",
        " \t\n",
        "\n",
        "    "
      ]
    },
    {
      "cell_type": "code",
      "source": [
        "\n",
        "if __name__==\"__main__\":\n",
        "    n = int(input())\n",
        "    arr = map(int, input().split())\n",
        "    arr = list(set(list(arr)))\n",
        "    ar = len(arr)\n",
        "    arr = sorted(arr)\n",
        "    print(arr[ar-2])\n",
        "\n",
        "\n",
        "\n"
      ],
      "metadata": {
        "colab": {
          "base_uri": "https://localhost:8080/"
        },
        "id": "LgnzBQC0VL2Z",
        "outputId": "ec31aefd-4001-421c-822d-972570e9095d"
      },
      "execution_count": 14,
      "outputs": [
        {
          "output_type": "stream",
          "name": "stdout",
          "text": [
            "2\n",
            "2 3 4 5 3\n",
            "4\n"
          ]
        }
      ]
    },
    {
      "cell_type": "code",
      "source": [
        "a = {2, 4, 5, 9}\n",
        "b = {2, 4, 11, 12}\n",
        "x = a.union(b)\n",
        "y = a.intersection(b)\n",
        "z = a.difference(b)\n",
        "print(x, y, z)"
      ],
      "metadata": {
        "colab": {
          "base_uri": "https://localhost:8080/"
        },
        "id": "UWtMdMP-Vhfg",
        "outputId": "308b53ac-d3ba-4ada-d506-3cb632bfbfdb"
      },
      "execution_count": 19,
      "outputs": [
        {
          "output_type": "stream",
          "name": "stdout",
          "text": [
            "{2, 4, 5, 9, 11, 12} {2, 4} {9, 5}\n"
          ]
        }
      ]
    }
  ]
}