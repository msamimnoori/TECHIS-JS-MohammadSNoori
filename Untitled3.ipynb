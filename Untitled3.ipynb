{
  "nbformat": 4,
  "nbformat_minor": 0,
  "metadata": {
    "colab": {
      "name": "Untitled3.ipynb",
      "provenance": [],
      "authorship_tag": "ABX9TyNPH0v/o8EfwNrVX90rY+Al",
      "include_colab_link": true
    },
    "kernelspec": {
      "name": "python3",
      "display_name": "Python 3"
    },
    "language_info": {
      "name": "python"
    }
  },
  "cells": [
    {
      "cell_type": "markdown",
      "metadata": {
        "id": "view-in-github",
        "colab_type": "text"
      },
      "source": [
        "<a href=\"https://colab.research.google.com/github/msamimnoori/TECHIS-JS-MohammadSNoori/blob/main/Untitled3.ipynb\" target=\"_parent\"><img src=\"https://colab.research.google.com/assets/colab-badge.svg\" alt=\"Open In Colab\"/></a>"
      ]
    },
    {
      "cell_type": "code",
      "execution_count": 11,
      "metadata": {
        "colab": {
          "base_uri": "https://localhost:8080/"
        },
        "id": "65f9ZBBuRmFG",
        "outputId": "cf302589-42bb-45d1-fa48-a096e6be184e"
      },
      "outputs": [
        {
          "output_type": "stream",
          "name": "stdout",
          "text": [
            "enter the name: ASDFGHJ\n",
            "This name is already in uppercase.\n"
          ]
        }
      ],
      "source": [
        "name = input(\"enter the name: \")\n",
        "\n",
        "if name.isupper() == False:\n",
        "\tname = name.upper()\n",
        "\tprint(name)\n",
        "else:\n",
        "\tprint(\"This name is already in uppercase.\")\n",
        " \t\n",
        "\n",
        "    "
      ]
    },
    {
      "cell_type": "code",
      "source": [
        "\n",
        "if __name__==\"__main__\":\n",
        "    n = int(input())\n",
        "    arr = map(int, input().split())\n",
        "    arr = list(set(list(arr)))\n",
        "    ar = len(arr)\n",
        "    arr = sorted(arr)\n",
        "    print(arr[ar-2])\n",
        "\n",
        "\n",
        "\n"
      ],
      "metadata": {
        "colab": {
          "base_uri": "https://localhost:8080/"
        },
        "id": "LgnzBQC0VL2Z",
        "outputId": "ec31aefd-4001-421c-822d-972570e9095d"
      },
      "execution_count": 14,
      "outputs": [
        {
          "output_type": "stream",
          "name": "stdout",
          "text": [
            "2\n",
            "2 3 4 5 3\n",
            "4\n"
          ]
        }
      ]
    },
    {
      "cell_type": "code",
      "source": [
        "a = {2, 4, 5, 9}\n",
        "b = {2, 4, 11, 12}\n",
        "x = a.union(b)\n",
        "y = a.intersection(b)\n",
        "z = a.difference(b)\n",
        "print(x, y, z)"
      ],
      "metadata": {
        "colab": {
          "base_uri": "https://localhost:8080/"
        },
        "id": "UWtMdMP-Vhfg",
        "outputId": "308b53ac-d3ba-4ada-d506-3cb632bfbfdb"
      },
      "execution_count": 19,
      "outputs": [
        {
          "output_type": "stream",
          "name": "stdout",
          "text": [
            "{2, 4, 5, 9, 11, 12} {2, 4} {9, 5}\n"
          ]
        }
      ]
    },
    {
      "cell_type": "code",
      "source": [
        "def add(x, y):\n",
        "    return x + y\n",
        "\n",
        "# This function subtracts two numbers\n",
        "def subtract(x, y):\n",
        "    return x - y\n",
        "\n",
        "# This function multiplies two numbers\n",
        "def multiply(x, y):\n",
        "    return x * y\n",
        "\n",
        "# This function divides two numbers\n",
        "def divide(x, y):\n",
        "    return x / y\n",
        "def squre(x, y):\n",
        "  return(x**2+y**2+(x+y))\n",
        "\n",
        "\n",
        "print(\"Select operation.\")\n",
        "print(\"1.Add\")\n",
        "print(\"2.Subtract\")\n",
        "print(\"3.Multiply\")\n",
        "print(\"4.Divide\")\n",
        "print(\"5.(a + b)^2\")\n",
        "\n",
        "while True:\n",
        "    # take input from the user\n",
        "    choice = input(\"Enter choice(1/2/3/4/5): \")\n",
        "\n",
        "    # check if choice is one of the four options\n",
        "    if choice in ('1', '2', '3', '4', '5'):\n",
        "        num1 = float(input(\"Enter first number: \"))\n",
        "        num2 = float(input(\"Enter second number: \"))\n",
        "\n",
        "        if choice == '1':\n",
        "            print(num1, \"+\", num2, \"=\", add(num1, num2))\n",
        "\n",
        "        elif choice == '2':\n",
        "            print(num1, \"-\", num2, \"=\", subtract(num1, num2))\n",
        "\n",
        "        elif choice == '3':\n",
        "            print(num1, \"*\", num2, \"=\", multiply(num1, num2))\n",
        "\n",
        "        elif choice == '4':\n",
        "            print(num1, \"/\", num2, \"=\", divide(num1, num2))\n",
        "        elif choice == '5':\n",
        "          print(\"{a+b)^2 = \", squre(num1, num2))\n",
        "        \n",
        "   "
      ],
      "metadata": {
        "colab": {
          "base_uri": "https://localhost:8080/"
        },
        "id": "-iVL3Q2fXqvv",
        "outputId": "40da7f3a-b7b8-45c4-a200-e70ac1cb44d9"
      },
      "execution_count": null,
      "outputs": [
        {
          "output_type": "stream",
          "name": "stdout",
          "text": [
            "Select operation.\n",
            "1.Add\n",
            "2.Subtract\n",
            "3.Multiply\n",
            "4.Divide\n",
            "5.(a + b)^2\n",
            "Enter choice(1/2/3/4/5): 5\n",
            "Enter first number: 4\n",
            "Enter second number: 4\n",
            "{a+b)^2 =  40.0\n"
          ]
        }
      ]
    },
    {
      "cell_type": "code",
      "source": [
        "#Swaping the values of x and y first for input for x and than y result show \n",
        "#the swapped value of x to y and y to x\n",
        "x = input(int())\n",
        "y = input(int())\n",
        "temp = x\n",
        "x = y\n",
        "y = temp\n",
        "print('The value of x after swapping: {}'.format(x))\n",
        "print('The value of y after swapping: {}'.format(y))"
      ],
      "metadata": {
        "colab": {
          "base_uri": "https://localhost:8080/"
        },
        "id": "fPfB4MAZakBT",
        "outputId": "cb33a2b6-22a6-4b90-a399-d487dae05fd5"
      },
      "execution_count": 34,
      "outputs": [
        {
          "output_type": "stream",
          "name": "stdout",
          "text": [
            "4\n",
            "5\n",
            "The value of x after swapping: 5\n",
            "The value of y after swapping: 4\n"
          ]
        }
      ]
    },
    {
      "cell_type": "code",
      "source": [
        "n = int(input(\"Enter number:\"))\n",
        "temp = n\n",
        "rev = 0\n",
        "while(n>0):\n",
        "    dig = n%10\n",
        "    rev = rev*10+dig\n",
        "    n = n//10\n",
        "if(temp==rev):\n",
        "    print(\"The number is a palindrome!\")\n",
        "else:\n",
        "    print(\"The number isn't a palindrome!\")"
      ],
      "metadata": {
        "id": "AHDOTE0Cb2P5"
      },
      "execution_count": null,
      "outputs": []
    },
    {
      "cell_type": "code",
      "source": [
        ""
      ],
      "metadata": {
        "id": "fmwiOBZ4cTUE"
      },
      "execution_count": null,
      "outputs": []
    }
  ]
}